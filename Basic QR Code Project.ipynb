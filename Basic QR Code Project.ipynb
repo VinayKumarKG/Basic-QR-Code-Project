{
 "cells": [
  {
   "cell_type": "code",
   "execution_count": 1,
   "id": "748c3397",
   "metadata": {},
   "outputs": [
    {
     "ename": "ModuleNotFoundError",
     "evalue": "No module named 'qrcode'",
     "output_type": "error",
     "traceback": [
      "\u001b[1;31m---------------------------------------------------------------------------\u001b[0m",
      "\u001b[1;31mModuleNotFoundError\u001b[0m                       Traceback (most recent call last)",
      "Cell \u001b[1;32mIn[1], line 1\u001b[0m\n\u001b[1;32m----> 1\u001b[0m \u001b[38;5;28;01mimport\u001b[39;00m \u001b[38;5;21;01mqrcode\u001b[39;00m \u001b[38;5;28;01mas\u001b[39;00m \u001b[38;5;21;01mqr\u001b[39;00m\n",
      "\u001b[1;31mModuleNotFoundError\u001b[0m: No module named 'qrcode'"
     ]
    }
   ],
   "source": [
    "import qrcode as qr"
   ]
  },
  {
   "cell_type": "code",
   "execution_count": 2,
   "id": "c3948765",
   "metadata": {},
   "outputs": [
    {
     "name": "stdout",
     "output_type": "stream",
     "text": [
      "Collecting qrcode\n",
      "  Using cached qrcode-7.4.2-py3-none-any.whl (46 kB)\n",
      "Requirement already satisfied: typing-extensions in c:\\users\\5shot\\appdata\\local\\programs\\python\\python311\\lib\\site-packages (from qrcode) (4.6.3)\n",
      "Collecting pypng (from qrcode)\n",
      "  Using cached pypng-0.20220715.0-py3-none-any.whl (58 kB)\n",
      "Requirement already satisfied: colorama in c:\\users\\5shot\\appdata\\local\\programs\\python\\python311\\lib\\site-packages (from qrcode) (0.4.6)\n",
      "Installing collected packages: pypng, qrcode\n",
      "Successfully installed pypng-0.20220715.0 qrcode-7.4.2\n"
     ]
    }
   ],
   "source": [
    "!pip install qrcode"
   ]
  },
  {
   "cell_type": "code",
   "execution_count": 3,
   "id": "4ed3cc60",
   "metadata": {},
   "outputs": [],
   "source": [
    "import qrcode as qr"
   ]
  },
  {
   "cell_type": "code",
   "execution_count": 4,
   "id": "6fdf005d",
   "metadata": {},
   "outputs": [],
   "source": [
    "img = qr.make('https://www.youtube.com/channel/UCrrLitqYC5FzV8fdfuEH35A')"
   ]
  },
  {
   "cell_type": "code",
   "execution_count": 6,
   "id": "9f576263",
   "metadata": {},
   "outputs": [],
   "source": [
    "img.save('youtubelink.png')"
   ]
  },
  {
   "cell_type": "code",
   "execution_count": null,
   "id": "5f0e279c",
   "metadata": {},
   "outputs": [],
   "source": []
  }
 ],
 "metadata": {
  "kernelspec": {
   "display_name": "Python 3 (ipykernel)",
   "language": "python",
   "name": "python3"
  },
  "language_info": {
   "codemirror_mode": {
    "name": "ipython",
    "version": 3
   },
   "file_extension": ".py",
   "mimetype": "text/x-python",
   "name": "python",
   "nbconvert_exporter": "python",
   "pygments_lexer": "ipython3",
   "version": "3.11.3"
  }
 },
 "nbformat": 4,
 "nbformat_minor": 5
}
